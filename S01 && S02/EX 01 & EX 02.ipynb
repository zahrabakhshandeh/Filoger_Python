{
 "cells": [
  {
   "cell_type": "markdown",
   "id": "111d42dc",
   "metadata": {},
   "source": [
    "# <b> 01"
   ]
  },
  {
   "cell_type": "markdown",
   "id": "cc410868",
   "metadata": {},
   "source": [
    "<b> To int"
   ]
  },
  {
   "cell_type": "code",
   "execution_count": 3,
   "id": "0f77a1e0",
   "metadata": {},
   "outputs": [
    {
     "name": "stdout",
     "output_type": "stream",
     "text": [
      "12\n"
     ]
    }
   ],
   "source": [
    "num1 = 12.45\n",
    "num1 = int(num1)\n",
    "print(num1)"
   ]
  },
  {
   "cell_type": "code",
   "execution_count": 4,
   "id": "55cd4bc4",
   "metadata": {},
   "outputs": [
    {
     "ename": "ValueError",
     "evalue": "invalid literal for int() with base 10: '12.45'",
     "output_type": "error",
     "traceback": [
      "Traceback \u001b[1;36m(most recent call last)\u001b[0m:\n",
      "\u001b[1;36m  Cell \u001b[1;32mIn[4], line 2\u001b[1;36m\n\u001b[1;33m    num2 = int(num2)\u001b[1;36m\n",
      "\u001b[1;31mValueError\u001b[0m\u001b[1;31m:\u001b[0m invalid literal for int() with base 10: '12.45'\n"
     ]
    }
   ],
   "source": [
    "num2 = \"12.45\"\n",
    "num2 = int(num2)\n",
    "print(num2)"
   ]
  },
  {
   "cell_type": "code",
   "execution_count": 5,
   "id": "105ac816",
   "metadata": {},
   "outputs": [
    {
     "name": "stdout",
     "output_type": "stream",
     "text": [
      "1\n"
     ]
    }
   ],
   "source": [
    "flag1 = True\n",
    "print(int(flag1))"
   ]
  },
  {
   "cell_type": "code",
   "execution_count": 6,
   "id": "f1af73b0",
   "metadata": {},
   "outputs": [
    {
     "ename": "ValueError",
     "evalue": "invalid literal for int() with base 10: 'a123'",
     "output_type": "error",
     "traceback": [
      "Traceback \u001b[1;36m(most recent call last)\u001b[0m:\n",
      "\u001b[1;36m  Cell \u001b[1;32mIn[6], line 2\u001b[1;36m\n\u001b[1;33m    print(int(code))\u001b[1;36m\n",
      "\u001b[1;31mValueError\u001b[0m\u001b[1;31m:\u001b[0m invalid literal for int() with base 10: 'a123'\n"
     ]
    }
   ],
   "source": [
    "code = \"a123\"\n",
    "print(int(code))"
   ]
  },
  {
   "cell_type": "code",
   "execution_count": 7,
   "id": "0746a8be",
   "metadata": {},
   "outputs": [
    {
     "name": "stdout",
     "output_type": "stream",
     "text": [
      "123\n"
     ]
    }
   ],
   "source": [
    "num3 = \"0123\"\n",
    "print(int(num3))"
   ]
  },
  {
   "cell_type": "markdown",
   "id": "fa340c87",
   "metadata": {},
   "source": [
    "<b> to float"
   ]
  },
  {
   "cell_type": "code",
   "execution_count": 8,
   "id": "201ff84e",
   "metadata": {},
   "outputs": [
    {
     "name": "stdout",
     "output_type": "stream",
     "text": [
      "10.0\n"
     ]
    }
   ],
   "source": [
    "num4 = 10\n",
    "print(float(num4))"
   ]
  },
  {
   "cell_type": "code",
   "execution_count": 9,
   "id": "c5943137",
   "metadata": {},
   "outputs": [
    {
     "name": "stdout",
     "output_type": "stream",
     "text": [
      "4.0\n"
     ]
    }
   ],
   "source": [
    "num5 = 4.\n",
    "print(float(num5))"
   ]
  },
  {
   "cell_type": "code",
   "execution_count": 10,
   "id": "09f7cfff",
   "metadata": {},
   "outputs": [
    {
     "name": "stdout",
     "output_type": "stream",
     "text": [
      "4.7\n"
     ]
    }
   ],
   "source": [
    "num6 = \"4.7\"\n",
    "print(float(num6))"
   ]
  },
  {
   "cell_type": "code",
   "execution_count": 11,
   "id": "04e655b0",
   "metadata": {},
   "outputs": [
    {
     "name": "stdout",
     "output_type": "stream",
     "text": [
      "51.0\n"
     ]
    }
   ],
   "source": [
    "num7 = \"51\"\n",
    "print(float(num7))"
   ]
  },
  {
   "cell_type": "code",
   "execution_count": 12,
   "id": "ae39e9e4",
   "metadata": {},
   "outputs": [
    {
     "ename": "ValueError",
     "evalue": "could not convert string to float: 'Python'",
     "output_type": "error",
     "traceback": [
      "Traceback \u001b[1;36m(most recent call last)\u001b[0m:\n",
      "\u001b[1;36m  Cell \u001b[1;32mIn[12], line 2\u001b[1;36m\n\u001b[1;33m    print(float(name))\u001b[1;36m\n",
      "\u001b[1;31mValueError\u001b[0m\u001b[1;31m:\u001b[0m could not convert string to float: 'Python'\n"
     ]
    }
   ],
   "source": [
    "name = \"Python\"\n",
    "print(float(name))"
   ]
  },
  {
   "cell_type": "markdown",
   "id": "4ccc4921",
   "metadata": {},
   "source": [
    "<b> to bool"
   ]
  },
  {
   "cell_type": "code",
   "execution_count": 13,
   "id": "1cc55888",
   "metadata": {},
   "outputs": [
    {
     "name": "stdout",
     "output_type": "stream",
     "text": [
      "False\n"
     ]
    }
   ],
   "source": [
    "flag3 = False\n",
    "print(bool(flag3))"
   ]
  },
  {
   "cell_type": "code",
   "execution_count": 14,
   "id": "679a59e3",
   "metadata": {},
   "outputs": [
    {
     "name": "stdout",
     "output_type": "stream",
     "text": [
      "True\n"
     ]
    }
   ],
   "source": [
    "flag4 = \"False\"\n",
    "print(bool(flag4))"
   ]
  },
  {
   "cell_type": "code",
   "execution_count": 16,
   "id": "88383d85",
   "metadata": {},
   "outputs": [
    {
     "ename": "NameError",
     "evalue": "name 'false' is not defined",
     "output_type": "error",
     "traceback": [
      "Traceback \u001b[1;36m(most recent call last)\u001b[0m:\n",
      "\u001b[1;36m  Cell \u001b[1;32mIn[16], line 1\u001b[1;36m\n\u001b[1;33m    flag5 = false\u001b[1;36m\n",
      "\u001b[1;31mNameError\u001b[0m\u001b[1;31m:\u001b[0m name 'false' is not defined\n"
     ]
    }
   ],
   "source": [
    "flag5 = false\n",
    "print(bool(flag5))"
   ]
  },
  {
   "cell_type": "code",
   "execution_count": 17,
   "id": "4216ed24",
   "metadata": {},
   "outputs": [
    {
     "name": "stdout",
     "output_type": "stream",
     "text": [
      "False\n"
     ]
    }
   ],
   "source": [
    "name1 = \"\"\n",
    "print(bool(name1))"
   ]
  },
  {
   "cell_type": "code",
   "execution_count": 18,
   "id": "27063da4",
   "metadata": {},
   "outputs": [
    {
     "name": "stdout",
     "output_type": "stream",
     "text": [
      "True\n"
     ]
    }
   ],
   "source": [
    "name2 = \" \"\n",
    "print(bool(name2))"
   ]
  },
  {
   "cell_type": "code",
   "execution_count": 20,
   "id": "e17f20fb",
   "metadata": {},
   "outputs": [
    {
     "name": "stdout",
     "output_type": "stream",
     "text": [
      "False\n"
     ]
    }
   ],
   "source": [
    "num8 = 0\n",
    "print(bool(num8))"
   ]
  },
  {
   "cell_type": "markdown",
   "id": "3f7a3e80",
   "metadata": {},
   "source": [
    "<b> to str"
   ]
  },
  {
   "cell_type": "code",
   "execution_count": 22,
   "id": "5355ac6b",
   "metadata": {},
   "outputs": [
    {
     "name": "stdout",
     "output_type": "stream",
     "text": [
      "False\n"
     ]
    }
   ],
   "source": [
    "flag = False\n",
    "print(str(flag))"
   ]
  },
  {
   "cell_type": "code",
   "execution_count": 23,
   "id": "a10f38af",
   "metadata": {},
   "outputs": [
    {
     "name": "stdout",
     "output_type": "stream",
     "text": [
      "0.0\n"
     ]
    }
   ],
   "source": [
    "num = 0.000\n",
    "print(str(num))"
   ]
  },
  {
   "cell_type": "markdown",
   "id": "e1065342",
   "metadata": {},
   "source": [
    "# 02"
   ]
  },
  {
   "cell_type": "markdown",
   "id": "6f9adf65",
   "metadata": {},
   "source": [
    "<b> left"
   ]
  },
  {
   "cell_type": "code",
   "execution_count": 25,
   "id": "b54ac468",
   "metadata": {},
   "outputs": [
    {
     "ename": "TypeError",
     "evalue": "unsupported operand type(s) for +: 'float' and 'str'",
     "output_type": "error",
     "traceback": [
      "Traceback \u001b[1;36m(most recent call last)\u001b[0m:\n",
      "\u001b[1;36m  Cell \u001b[1;32mIn[25], line 5\u001b[1;36m\n\u001b[1;33m    b = a + x   # Plus a with string x ----> error\u001b[1;36m\n",
      "\u001b[1;31mTypeError\u001b[0m\u001b[1;31m:\u001b[0m unsupported operand type(s) for +: 'float' and 'str'\n"
     ]
    }
   ],
   "source": [
    "x = \"300\"   # Store string 300 in x\n",
    "y = int(x)  # convert x to int\n",
    "z = y + 200 # Plus y with 200\n",
    "a = float(z) # Convert z to float\n",
    "b = a + x   # Plus a with string x ----> error\n",
    "c = int(b) + 100 # error"
   ]
  },
  {
   "cell_type": "code",
   "execution_count": 27,
   "id": "ce065ed0",
   "metadata": {},
   "outputs": [
    {
     "name": "stdout",
     "output_type": "stream",
     "text": [
      "900\n"
     ]
    }
   ],
   "source": [
    "# Fix\n",
    "x = \"300\"\n",
    "y = int(x)\n",
    "z = y + 200\n",
    "a = float(z)\n",
    "b = a + int(x)\n",
    "c = int(b) + 100\n",
    "print(c)"
   ]
  },
  {
   "cell_type": "code",
   "execution_count": 30,
   "id": "fc6ec54f",
   "metadata": {},
   "outputs": [
    {
     "name": "stdout",
     "output_type": "stream",
     "text": [
      "41625\n"
     ]
    }
   ],
   "source": [
    "x = \"250\"   # save \"250\" into x\n",
    "y = int(x)  # convert x to int\n",
    "z = y // 3  # y//3 --> res = int\n",
    "a = str(z)  # convert z to string\n",
    "b = a + x   # concatenate x and a\n",
    "c = int(b) // 2  # conver b to int then // 2 --> res = int\n",
    "print(c)"
   ]
  },
  {
   "cell_type": "markdown",
   "id": "e145f97c",
   "metadata": {},
   "source": [
    "# <b>03"
   ]
  },
  {
   "cell_type": "code",
   "execution_count": 50,
   "id": "ff11150b",
   "metadata": {},
   "outputs": [
    {
     "name": "stdout",
     "output_type": "stream",
     "text": [
      "Enter your string:  yes\n"
     ]
    },
    {
     "data": {
      "text/plain": [
       "True"
      ]
     },
     "execution_count": 50,
     "metadata": {},
     "output_type": "execute_result"
    }
   ],
   "source": [
    "string = input(\"Enter your string: \")\n",
    "string == \"yes\" or string == \"no\""
   ]
  },
  {
   "cell_type": "markdown",
   "id": "39cb6ea6",
   "metadata": {},
   "source": [
    "# <b> 04"
   ]
  },
  {
   "cell_type": "code",
   "execution_count": 53,
   "id": "f75a0aed",
   "metadata": {},
   "outputs": [
    {
     "name": "stdout",
     "output_type": "stream",
     "text": [
      "Enter your String:  fhf\n"
     ]
    },
    {
     "data": {
      "text/plain": [
       "True"
      ]
     },
     "execution_count": 53,
     "metadata": {},
     "output_type": "execute_result"
    }
   ],
   "source": [
    "string = input(\"Enter your String: \")\n",
    "bool(string)"
   ]
  },
  {
   "cell_type": "markdown",
   "id": "b66b82a0",
   "metadata": {},
   "source": [
    "# <b> 05"
   ]
  },
  {
   "cell_type": "code",
   "execution_count": 54,
   "id": "56077fce",
   "metadata": {},
   "outputs": [
    {
     "name": "stdout",
     "output_type": "stream",
     "text": [
      "Enter temp in Celsius : 10\n"
     ]
    },
    {
     "name": "stdout",
     "output_type": "stream",
     "text": [
      "Temp in Fahrenheit:50.0\n"
     ]
    }
   ],
   "source": [
    "C = float(input(\"Enter temp in Celsius :\"))\n",
    "F = (C*(9/5))+32\n",
    "print(\"Temp in Fahrenheit:\" + str(F))"
   ]
  },
  {
   "cell_type": "markdown",
   "id": "c9d55ccb",
   "metadata": {},
   "source": [
    "# <b> 06"
   ]
  },
  {
   "cell_type": "code",
   "execution_count": 57,
   "id": "a988dedf",
   "metadata": {},
   "outputs": [],
   "source": [
    "num1, num2, num3 = 17, 1.8, 28   # Place every number to related variables"
   ]
  },
  {
   "cell_type": "code",
   "execution_count": 62,
   "id": "3aa08627",
   "metadata": {},
   "outputs": [],
   "source": [
    "# num4, num5 = 45, 12, 19   # number of variables is not enough"
   ]
  },
  {
   "cell_type": "code",
   "execution_count": 61,
   "id": "d0e83ea3",
   "metadata": {},
   "outputs": [],
   "source": [
    "num4, num5, num6 = 45,12,19"
   ]
  },
  {
   "cell_type": "code",
   "execution_count": 63,
   "id": "b649a774",
   "metadata": {},
   "outputs": [],
   "source": [
    "# num6, num7, num8 = 200,300     error: not enugh number to assign\n",
    "num6, num7, num8 = 200,300,400"
   ]
  },
  {
   "cell_type": "code",
   "execution_count": 65,
   "id": "72ba636f",
   "metadata": {},
   "outputs": [],
   "source": [
    "name, score, passed = \"Sara\", 19, True\n",
    "# name --> string\n",
    "# score ---> int\n",
    "# passed ----> True"
   ]
  },
  {
   "cell_type": "code",
   "execution_count": 66,
   "id": "c630ebc6",
   "metadata": {},
   "outputs": [],
   "source": [
    "var1 = var2 = var3 = 500   # put 500 into var 1,2,3"
   ]
  },
  {
   "cell_type": "code",
   "execution_count": 2,
   "id": "48ce7659",
   "metadata": {},
   "outputs": [
    {
     "name": "stdout",
     "output_type": "stream",
     "text": [
      "30 20\n"
     ]
    }
   ],
   "source": [
    "num1 = 20           # save 20 in num1\n",
    "num2 = 30           # save 30 in num2\n",
    "num1,num2 = num2, num1     # change num1 and num2 with each other\n",
    "print(num1,num2)"
   ]
  },
  {
   "cell_type": "markdown",
   "id": "9783134b",
   "metadata": {},
   "source": [
    "# EX02"
   ]
  },
  {
   "cell_type": "markdown",
   "id": "7cca7023",
   "metadata": {},
   "source": [
    "### 01"
   ]
  },
  {
   "cell_type": "code",
   "execution_count": 71,
   "id": "36c8496d",
   "metadata": {},
   "outputs": [
    {
     "name": "stdout",
     "output_type": "stream",
     "text": [
      "Enter your letter: a\n"
     ]
    },
    {
     "name": "stdout",
     "output_type": "stream",
     "text": [
      "Vowel\n"
     ]
    }
   ],
   "source": [
    "s = input(\"Enter your letter:\")\n",
    "if s == 'a' or s == 'e' or s =='i' or s =='o' or s =='u':\n",
    "    print('Vowel')\n",
    "else:\n",
    "    print(\"Constant\")"
   ]
  },
  {
   "cell_type": "markdown",
   "id": "7b00cf1e",
   "metadata": {},
   "source": [
    "### 02"
   ]
  },
  {
   "cell_type": "code",
   "execution_count": 1,
   "id": "8d90d933",
   "metadata": {},
   "outputs": [
    {
     "name": "stdout",
     "output_type": "stream",
     "text": [
      "Enter your number: 10\n"
     ]
    },
    {
     "name": "stdout",
     "output_type": "stream",
     "text": [
      "In Range\n"
     ]
    }
   ],
   "source": [
    "num = int(input(\"Enter your number:\"))\n",
    "if 10<=num<=20:\n",
    "    print(\"In Range\")\n",
    "else:\n",
    "    print(\"Out of Range\")"
   ]
  },
  {
   "cell_type": "markdown",
   "id": "d7d44a90",
   "metadata": {},
   "source": [
    "### 03"
   ]
  },
  {
   "cell_type": "code",
   "execution_count": 6,
   "id": "7c6c3ef5",
   "metadata": {},
   "outputs": [
    {
     "name": "stdout",
     "output_type": "stream",
     "text": [
      "Enter Your 1st Number: 1\n",
      "Enter Your 2nd Number: 1\n"
     ]
    },
    {
     "name": "stdout",
     "output_type": "stream",
     "text": [
      "Not greater\n"
     ]
    }
   ],
   "source": [
    "num1 = float(input(\"Enter Your 1st Number:\"))\n",
    "num2 = float(input(\"Enter Your 2nd Number:\"))\n",
    "\n",
    "sum_ = num1 + num2\n",
    "\n",
    "if sum_> 20:\n",
    "    print(\"Greater\")\n",
    "else:\n",
    "  print(\"Not greater\")"
   ]
  },
  {
   "cell_type": "markdown",
   "id": "99a734a5",
   "metadata": {},
   "source": [
    "### 04"
   ]
  },
  {
   "cell_type": "code",
   "execution_count": 10,
   "id": "079d0f47",
   "metadata": {},
   "outputs": [
    {
     "name": "stdout",
     "output_type": "stream",
     "text": [
      "Enter Color1:  R\n",
      "Enter Color2:  r\n",
      "Enter Color3:  g\n"
     ]
    },
    {
     "name": "stdout",
     "output_type": "stream",
     "text": [
      "No Color Match!\n"
     ]
    }
   ],
   "source": [
    "color1 = input(\"Enter Color1: \")\n",
    "color2 = input(\"Enter Color2: \")\n",
    "color3 = input(\"Enter Color3: \")\n",
    "\n",
    "if color1==color2==color3:\n",
    "    print(\"All Colors Match!\")\n",
    "elif color1==color2 or color1==color3 or color2==color3:\n",
    "    print(\"Two Color Match!\")\n",
    "else:\n",
    "    print(\"No Color Match!\")"
   ]
  },
  {
   "cell_type": "markdown",
   "id": "39ba2c55",
   "metadata": {},
   "source": [
    "### 05"
   ]
  },
  {
   "cell_type": "code",
   "execution_count": 8,
   "id": "7705c137",
   "metadata": {},
   "outputs": [
    {
     "name": "stdout",
     "output_type": "stream",
     "text": [
      "0.7407407407407407\n"
     ]
    }
   ],
   "source": [
    "num1 = 4\n",
    "num2 = 5.4\n",
    "if type(num1) == str and type(num2) == str:\n",
    "  res = num1 + num2\n",
    "elif type(num1) == int and type(num2) == int:\n",
    "  res = num1 - num2\n",
    "elif type(num1) == int and type(num2) == float and num2 != 0:\n",
    "  res = num1 / num2\n",
    "elif type(num1) == int and type(num2) == float:\n",
    "  res = \"Cannot divide by zero\"\n",
    "else:\n",
    "  res = \"Invalid syntax\"\n",
    "print(res)"
   ]
  }
 ],
 "metadata": {
  "kernelspec": {
   "display_name": "Python 3 (Spyder)",
   "language": "python3",
   "name": "python3"
  },
  "language_info": {
   "codemirror_mode": {
    "name": "ipython",
    "version": 3
   },
   "file_extension": ".py",
   "mimetype": "text/x-python",
   "name": "python",
   "nbconvert_exporter": "python",
   "pygments_lexer": "ipython3",
   "version": "3.10.13"
  }
 },
 "nbformat": 4,
 "nbformat_minor": 5
}
