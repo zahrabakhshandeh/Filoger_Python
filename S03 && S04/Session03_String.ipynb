{
 "cells": [
  {
   "cell_type": "markdown",
   "metadata": {},
   "source": [
    "### Session03 (String)"
   ]
  },
  {
   "cell_type": "code",
   "execution_count": 7,
   "metadata": {},
   "outputs": [
    {
     "name": "stdout",
     "output_type": "stream",
     "text": [
      "python\n",
      "t\n",
      "o\n",
      "p\n",
      "n\n"
     ]
    }
   ],
   "source": [
    "## string \"\" '' \n",
    "name = \"python\"\n",
    "# index 012345\n",
    "#          -2-1\n",
    "print(name)\n",
    "## t\n",
    "print(name[2])\n",
    "# print(name[6]) ===> IndexError\n",
    "print(name[-2])\n",
    "print(name[0])\n",
    "print(name[-1])"
   ]
  },
  {
   "cell_type": "markdown",
   "metadata": {},
   "source": [
    "### Slicing"
   ]
  },
  {
   "cell_type": "code",
   "execution_count": 16,
   "metadata": {},
   "outputs": [
    {
     "name": "stdout",
     "output_type": "stream",
     "text": [
      " Python!\n",
      "Python\n",
      "Hi\n",
      " yhn\n",
      "Hi Pyt\n",
      "ython!\n",
      "H yhn\n"
     ]
    }
   ],
   "source": [
    "str1 = \"I am learning python!\"\n",
    "str2 = \"Hi Python!\"\n",
    "# index 0123456789\n",
    "print(str2[2:10])\n",
    "print(str2[3:9])\n",
    "print(str2[0:2])\n",
    "# [start:stop:step]\n",
    "print(str2[2:9:2]) # 2(\" \"), 4(\"y\"), 6(\"h\"), 8(\"n\")\n",
    "# start ====> def ==> 0\n",
    "# stop ====> def ===> end of string\n",
    "# step ====> def ====> 1\n",
    "print(str2[:6])\n",
    "print(str2[4:])\n",
    "print(str2[::2])"
   ]
  },
  {
   "cell_type": "code",
   "execution_count": 20,
   "metadata": {},
   "outputs": [
    {
     "name": "stdout",
     "output_type": "stream",
     "text": [
      "tyP i\n"
     ]
    }
   ],
   "source": [
    "str2 = \"Hi Python!\"\n",
    "# index 0123456789\n",
    "print(str2[5:0:-1])"
   ]
  },
  {
   "cell_type": "code",
   "execution_count": 37,
   "metadata": {},
   "outputs": [
    {
     "name": "stdout",
     "output_type": "stream",
     "text": [
      "nohty\n"
     ]
    }
   ],
   "source": [
    "str2 = \"Hi Python!\"\n",
    "# index 0123456789\n",
    "print(str2[3:8:-1]) #3"
   ]
  },
  {
   "cell_type": "code",
   "execution_count": null,
   "metadata": {},
   "outputs": [],
   "source": []
  },
  {
   "cell_type": "code",
   "execution_count": 22,
   "metadata": {},
   "outputs": [
    {
     "name": "stdout",
     "output_type": "stream",
     "text": [
      "!nohtyP iH\n"
     ]
    }
   ],
   "source": [
    "str2 = \"Hi Python!\"\n",
    "str2 = str2[::-1]\n",
    "print(str2)"
   ]
  },
  {
   "cell_type": "code",
   "execution_count": 25,
   "metadata": {},
   "outputs": [
    {
     "name": "stdout",
     "output_type": "stream",
     "text": [
      "6\n"
     ]
    }
   ],
   "source": [
    "name = \"Python\"\n",
    "length = len(name)\n",
    "print(length)"
   ]
  },
  {
   "cell_type": "markdown",
   "metadata": {},
   "source": [
    "### Methods"
   ]
  },
  {
   "cell_type": "code",
   "execution_count": 30,
   "metadata": {},
   "outputs": [
    {
     "name": "stdout",
     "output_type": "stream",
     "text": [
      "HI PYTHON\n",
      "hi python\n",
      "Hi Python\n"
     ]
    }
   ],
   "source": [
    "str1 = \"Hi python\"\n",
    "str1 = str1.upper()\n",
    "print(str1)\n",
    "str1 = str1.lower()\n",
    "print(str1)\n",
    "str1 = str1.title()\n",
    "print(str1)"
   ]
  },
  {
   "cell_type": "code",
   "execution_count": 34,
   "metadata": {},
   "outputs": [
    {
     "name": "stdout",
     "output_type": "stream",
     "text": [
      "Hi python 13 9\n"
     ]
    }
   ],
   "source": [
    "name = \"  Hi python  \"\n",
    "l1 = len(name)\n",
    "name = name.strip()\n",
    "l2 = len(name)\n",
    "print(name, l1, l2)"
   ]
  },
  {
   "cell_type": "code",
   "execution_count": 45,
   "metadata": {},
   "outputs": [
    {
     "name": "stdout",
     "output_type": "stream",
     "text": [
      "-1 -1\n",
      "2 7\n"
     ]
    }
   ],
   "source": [
    "str1 = \"I am learning python!\"\n",
    "## .find(), .rfind() ===> not found ===> -1\n",
    "ind1 = str1.find(\"z\")\n",
    "ind2 = str1.rfind(\"z\")\n",
    "print(ind1, ind2)\n",
    "## .index(), rindex() ===> not found ===> Value error\n",
    "ind1 = str1.index(\"a\")\n",
    "ind2 = str1.rindex(\"a\")\n",
    "print(ind1, ind2)"
   ]
  },
  {
   "cell_type": "code",
   "execution_count": 57,
   "metadata": {},
   "outputs": [
    {
     "name": "stdout",
     "output_type": "stream",
     "text": [
      "14 19\n"
     ]
    }
   ],
   "source": [
    "str1 = \"I am learning python!\"\n",
    "## .find(), .rfind() ===> not found ===> -1\n",
    "name = \"python\"\n",
    "l1 = len(name) -1\n",
    "ind1 = str1.find(name)\n",
    "if ind1 != -1:\n",
    "  ind2 = ind1 + l1\n",
    "  print(ind1, ind2)\n",
    "else:\n",
    "  print(\"not found!\")"
   ]
  },
  {
   "cell_type": "code",
   "execution_count": 59,
   "metadata": {},
   "outputs": [
    {
     "name": "stdout",
     "output_type": "stream",
     "text": [
      "6\n",
      "False\n"
     ]
    }
   ],
   "source": [
    "file_name = \"python.pdffgg\"\n",
    "## endswith\n",
    "res = file_name.endswith(\".pdf\")\n",
    "res = file_name.rfind(\".pdf\")\n",
    "print(res)\n",
    "## startswith\n",
    "res = file_name.startswith(\"python3\")\n",
    "print(res)"
   ]
  },
  {
   "cell_type": "code",
   "execution_count": 62,
   "metadata": {},
   "outputs": [
    {
     "name": "stdout",
     "output_type": "stream",
     "text": [
      "0\n"
     ]
    }
   ],
   "source": [
    "str1 = \"I am learning python!\"\n",
    "c1 = str1.count(\"java\")\n",
    "print(c1)"
   ]
  },
  {
   "cell_type": "code",
   "execution_count": 66,
   "metadata": {},
   "outputs": [
    {
     "name": "stdout",
     "output_type": "stream",
     "text": [
      "True\n",
      "True\n"
     ]
    }
   ],
   "source": [
    "num = \"123\" \n",
    "is_digit = num.isdigit()\n",
    "print(is_digit)\n",
    "name = \"python\"\n",
    "is_alpha = name.isalpha()\n",
    "print(is_alpha)"
   ]
  },
  {
   "cell_type": "code",
   "execution_count": 75,
   "metadata": {},
   "outputs": [
    {
     "name": "stdout",
     "output_type": "stream",
     "text": [
      "Hi java,java\n"
     ]
    }
   ],
   "source": [
    "str1 = \"Hi python,python\"\n",
    "new_str = str1.replace(\"python\", \"java\")\n",
    "print(new_str)"
   ]
  },
  {
   "cell_type": "code",
   "execution_count": 73,
   "metadata": {},
   "outputs": [
    {
     "name": "stdout",
     "output_type": "stream",
     "text": [
      "['Hi', 'python', '!python']\n"
     ]
    }
   ],
   "source": [
    "str1 = \"Hi python !python\"\n",
    "res = str1.split(\" \")\n",
    "print(res)"
   ]
  },
  {
   "cell_type": "code",
   "execution_count": 77,
   "metadata": {},
   "outputs": [
    {
     "name": "stdout",
     "output_type": "stream",
     "text": [
      "Hi****python****!python\n"
     ]
    }
   ],
   "source": [
    "words = ['Hi', 'python', '!python']\n",
    "new_str = \"****\".join(words)\n",
    "print(new_str)"
   ]
  },
  {
   "cell_type": "code",
   "execution_count": null,
   "metadata": {},
   "outputs": [],
   "source": [
    "num1 = 12\n",
    "num2 = 14\n",
    "numbers = [12, 14]"
   ]
  },
  {
   "cell_type": "markdown",
   "metadata": {},
   "source": [
    "### Search"
   ]
  },
  {
   "cell_type": "code",
   "execution_count": 79,
   "metadata": {},
   "outputs": [
    {
     "name": "stdout",
     "output_type": "stream",
     "text": [
      "True\n",
      "False\n"
     ]
    }
   ],
   "source": [
    "str1 = \"python!\"\n",
    "## in\n",
    "print(\"python\" in str1)\n",
    "print(\"python\" not in str1)"
   ]
  },
  {
   "cell_type": "code",
   "execution_count": 89,
   "metadata": {},
   "outputs": [
    {
     "name": "stdout",
     "output_type": "stream",
     "text": [
      "result: (num1 + num2) / 2 = avg\n",
      "result: ( 12 + 20 ) / 2 =  16.0\n",
      "result: (12 + 20) / 2 = 16.0\n",
      "result: (12 + 20) / 2 = 16.0\n",
      "result: (12 + 20) / 2 = 16.0\n"
     ]
    }
   ],
   "source": [
    "num1 = 12\n",
    "num2 = 20\n",
    "avg = (num1 + num2) / 2\n",
    "## result: (12 + 20) / 2 = 16\n",
    "## result: (num1 + num2) / 2 = avg\n",
    "print(\"result: (num1 + num2) / 2 = avg\")\n",
    "print(\"result: (\",num1, \"+\", num2,\") / 2 = \",avg)\n",
    "print(\"result: ({} + {}) / 2 = {}\".format(num1, num2, avg))\n",
    "print(f\"result: ({num1} + {num2}) / 2 = {avg}\")\n",
    "print(\"result: (%d + %d) / 2 = %.1f\" % (num1, num2, avg))"
   ]
  },
  {
   "cell_type": "code",
   "execution_count": 91,
   "metadata": {},
   "outputs": [
    {
     "name": "stdout",
     "output_type": "stream",
     "text": [
      "student name: Sara\n"
     ]
    }
   ],
   "source": [
    "name = input(\"your name: \")\n",
    "print(f\"student name: {name}\")"
   ]
  },
  {
   "cell_type": "code",
   "execution_count": 100,
   "metadata": {},
   "outputs": [
    {
     "name": "stdout",
     "output_type": "stream",
     "text": [
      "122\n",
      "65\n"
     ]
    }
   ],
   "source": [
    "chr1 = \"z\"\n",
    "res1 = ord(chr1)\n",
    "print(res1)\n",
    "chr1 = \"A\"\n",
    "res1 = ord(chr1)\n",
    "print(res1)"
   ]
  },
  {
   "cell_type": "code",
   "execution_count": 101,
   "metadata": {},
   "outputs": [
    {
     "name": "stdout",
     "output_type": "stream",
     "text": [
      "A\n"
     ]
    }
   ],
   "source": [
    "chr3 = chr(65)\n",
    "print(chr3)"
   ]
  },
  {
   "cell_type": "code",
   "execution_count": 107,
   "metadata": {},
   "outputs": [
    {
     "name": "stdout",
     "output_type": "stream",
     "text": [
      "python  java\n",
      "python python python python \n"
     ]
    }
   ],
   "source": [
    "## +, *\n",
    "str1 = \"python \"\n",
    "str2 = \"java\"\n",
    "print(str1 + \" \" + str2)\n",
    "print(str1 * 4)"
   ]
  },
  {
   "cell_type": "code",
   "execution_count": 108,
   "metadata": {},
   "outputs": [
    {
     "name": "stdout",
     "output_type": "stream",
     "text": [
      "yes\n"
     ]
    }
   ],
   "source": [
    "## ==, !=\n",
    "name1 = \"ab\"\n",
    "name2 = \"ba\"\n",
    "r_name1 = name1[::-1]\n",
    "if name2 == r_name1:\n",
    "  print(\"yes\")"
   ]
  },
  {
   "cell_type": "code",
   "execution_count": 112,
   "metadata": {},
   "outputs": [
    {
     "name": "stdout",
     "output_type": "stream",
     "text": [
      "False\n"
     ]
    }
   ],
   "source": [
    "time = \"4:24\"\n",
    "l1 = len(time)\n",
    "h = time[:2]\n",
    "m = time[3:]\n",
    "is_digit_h = h.isdigit()\n",
    "is_digit_m = m.isdigit()\n",
    "if is_digit_h:\n",
    "  h = int(h)\n",
    "if is_digit_m:\n",
    "  m = int(m)\n",
    "is_valid = l1 == 5 and is_digit_h and is_digit_m \n",
    "print(is_valid)"
   ]
  },
  {
   "cell_type": "code",
   "execution_count": 114,
   "metadata": {},
   "outputs": [
    {
     "name": "stdout",
     "output_type": "stream",
     "text": [
      "38 2\n"
     ]
    }
   ],
   "source": [
    "year = 1984\n",
    "month = 9\n",
    "### 2023.7\n",
    "new_year = 2023 - year\n",
    "if month < 7:\n",
    "  new_m = 7 - month\n",
    "elif month > 7:\n",
    "  new_year = new_year - 1\n",
    "  new_m = month - 7\n",
    "print(new_year, new_m)\n"
   ]
  }
 ],
 "metadata": {
  "kernelspec": {
   "display_name": "base",
   "language": "python",
   "name": "python3"
  },
  "language_info": {
   "codemirror_mode": {
    "name": "ipython",
    "version": 3
   },
   "file_extension": ".py",
   "mimetype": "text/x-python",
   "name": "python",
   "nbconvert_exporter": "python",
   "pygments_lexer": "ipython3",
   "version": "3.9.13"
  },
  "orig_nbformat": 4
 },
 "nbformat": 4,
 "nbformat_minor": 2
}
